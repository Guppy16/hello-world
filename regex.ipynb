{
 "cells": [
  {
   "cell_type": "markdown",
   "metadata": {},
   "source": [
    "Regex website to check: https://pythex.org/"
   ]
  },
  {
   "cell_type": "code",
   "execution_count": 3,
   "metadata": {},
   "outputs": [],
   "source": [
    "import re"
   ]
  },
  {
   "cell_type": "code",
   "execution_count": 4,
   "metadata": {},
   "outputs": [
    {
     "name": "stdout",
     "output_type": "stream",
     "text": [
      "415-555-4242\n"
     ]
    }
   ],
   "source": [
    "phoneNumRegex = re.compile(r'\\d{3}-\\d{3}-\\d{4}')\n",
    "mo = phoneNumRegex.search('My number is 415-555-4242.')\n",
    "print(mo.group())"
   ]
  },
  {
   "cell_type": "markdown",
   "metadata": {},
   "source": [
    "## Special Characters\n",
    "`.  ^  $  *  +  ?  {  }  [  ]  \\  |  (  )`\n",
    "\n",
    "- `^` Must match at the beginning of the string\n",
    "- `$` Must match at the end of the string\n",
    "\n",
    "e.g. `wholeStringIsNum = re.compile(r'^\\d+$')`. \"Carrots cost dollars\" (to remember which way roud the symbols go)"
   ]
  },
  {
   "cell_type": "markdown",
   "metadata": {},
   "source": [
    "### Groups\n",
    "\n",
    "Groups are established using brackets `()`"
   ]
  },
  {
   "cell_type": "code",
   "execution_count": 5,
   "metadata": {},
   "outputs": [
    {
     "name": "stdout",
     "output_type": "stream",
     "text": [
      "(415)-555-4242\n",
      "415\n",
      "555-4242\n"
     ]
    }
   ],
   "source": [
    "phoneNumRegex = re.compile(r'\\((\\d{3})\\)-(\\d{3}-\\d{4})')\n",
    "mo = phoneNumRegex.search('My number is (415)-555-4242.')\n",
    "print(mo.group())\n",
    "areaCode, mainNumber = mo.groups()\n",
    "print(areaCode)\n",
    "print(mainNumber)"
   ]
  },
  {
   "cell_type": "markdown",
   "metadata": {},
   "source": [
    "### Multiple Groups\n",
    "\n",
    "Match multiple groups with pipe `|`\n",
    "e.g. `(a|b)` will match either one. Note that if both exist, then it will match the first instance. Also note that you can find all matching occurences with `findall()`"
   ]
  },
  {
   "cell_type": "code",
   "execution_count": 6,
   "metadata": {},
   "outputs": [
    {
     "name": "stdout",
     "output_type": "stream",
     "text": [
      "Batman\n"
     ]
    }
   ],
   "source": [
    "heroRegex = re.compile(r'Batman|Tina Fey')\n",
    "mo = heroRegex.search('Batman and Tina Fey')\n",
    "print(mo.group())"
   ]
  },
  {
   "cell_type": "code",
   "execution_count": 7,
   "metadata": {},
   "outputs": [
    {
     "name": "stdout",
     "output_type": "stream",
     "text": [
      "Batmobile\n",
      "('mobile',)\n"
     ]
    }
   ],
   "source": [
    "batRegex = re.compile(r'Bat(man|mobile|copter|bat)')\n",
    "mo = batRegex.search('Batmobile lost a wheel')\n",
    "print(mo.group())\n",
    "print(mo.groups())"
   ]
  },
  {
   "cell_type": "markdown",
   "metadata": {},
   "source": [
    "### Optional Groups\n",
    "\n",
    "`?` matches 0 or 1 occurence"
   ]
  },
  {
   "cell_type": "code",
   "execution_count": 8,
   "metadata": {},
   "outputs": [
    {
     "name": "stdout",
     "output_type": "stream",
     "text": [
      "Batman\n",
      "(None,)\n",
      "Batwoman\n",
      "('wo',)\n"
     ]
    }
   ],
   "source": [
    "batRegex = re.compile(r'Bat(wo)?man')\n",
    "mo = batRegex.search('The Adventures of Batman')\n",
    "print(mo.group())\n",
    "print(mo.groups())\n",
    "\n",
    "mo = batRegex.search('The Adventures of Batwoman')\n",
    "print(mo.group())\n",
    "print(mo.groups())"
   ]
  },
  {
   "cell_type": "markdown",
   "metadata": {},
   "source": [
    "### Matching Zero or More\n",
    "\n",
    "`*` matches 0 or more"
   ]
  },
  {
   "cell_type": "code",
   "execution_count": 9,
   "metadata": {},
   "outputs": [
    {
     "name": "stdout",
     "output_type": "stream",
     "text": [
      "Batwowowoman\n",
      "('wo',)\n"
     ]
    }
   ],
   "source": [
    "batRegex = re.compile(r'Bat(wo)*man')\n",
    "mo = batRegex.search('The Adventures of Batwowowoman')\n",
    "print(mo.group())\n",
    "print(mo.groups())"
   ]
  },
  {
   "cell_type": "markdown",
   "metadata": {},
   "source": [
    "### Matching One or More\n",
    "\n",
    "`+` matches 1 or more"
   ]
  },
  {
   "cell_type": "code",
   "execution_count": 10,
   "metadata": {},
   "outputs": [
    {
     "name": "stdout",
     "output_type": "stream",
     "text": [
      "Batwowowoman\n",
      "('wo',)\n"
     ]
    },
    {
     "data": {
      "text/plain": [
       "True"
      ]
     },
     "execution_count": 10,
     "metadata": {},
     "output_type": "execute_result"
    }
   ],
   "source": [
    "batRegex = re.compile(r'Bat(wo)+man')\n",
    "mo = batRegex.search('The Adventures of Batwowowoman')\n",
    "print(mo.group())\n",
    "print(mo.groups())\n",
    "\n",
    "mo = batRegex.search('The Adventures of Batman')\n",
    "mo is None"
   ]
  },
  {
   "cell_type": "markdown",
   "metadata": {},
   "source": [
    "### Matching Specific repetitions\n",
    "\n",
    "`{LB, UB}` looks for repeats between LB and UB (incl).\n",
    "Note: leaving one side of the comma blank will make that bound unbounded\n",
    "\n",
    "By default, re is _greedy_. Hence, if it will try to match as close to the UB as possible. If instead you want it to be lazy, then add a question-mark at the end: `{LB,UB}?`"
   ]
  },
  {
   "cell_type": "code",
   "execution_count": 11,
   "metadata": {},
   "outputs": [
    {
     "name": "stdout",
     "output_type": "stream",
     "text": [
      "HaHaHaHaHa\n",
      "HaHaHa\n"
     ]
    }
   ],
   "source": [
    "ha = \"HaHaHaHaHa\"\n",
    "greedyHaRegex = re.compile(r'(Ha){3,5}')\n",
    "print(greedyHaRegex.search(ha).group())\n",
    "\n",
    "lazyHaRegex = re.compile(r'(Ha){3,5}?')\n",
    "print(lazyHaRegex.search(ha).group())"
   ]
  },
  {
   "cell_type": "markdown",
   "metadata": {},
   "source": [
    "### `findall()`\n",
    "\n",
    "`findall()` will not return a `Match` object, but instead one of two things:\n",
    "- if there are no groups, then it returns a list of strings corresponding to each match\n",
    "- if there are groups, then it returns a list of tuples"
   ]
  },
  {
   "cell_type": "code",
   "execution_count": 12,
   "metadata": {},
   "outputs": [
    {
     "data": {
      "text/plain": [
       "[('415', '555', '9999'), ('212', '555', '0000')]"
      ]
     },
     "execution_count": 12,
     "metadata": {},
     "output_type": "execute_result"
    }
   ],
   "source": [
    "phoneNumRegex = re.compile(r'(\\d{3})-(\\d{3})-(\\d{4})')\n",
    "phoneNumRegex.findall('Cell: 415-555-9999 Work: 212-555-0000')"
   ]
  },
  {
   "cell_type": "markdown",
   "metadata": {},
   "source": [
    "## Character classes\n",
    "\n",
    "- `\\d` - Digits. Note, this is quivalent to  `[0-9]`\n",
    "- `\\w` - Word characters. Note, this is equivalnt to `[a-zA-Z0-9_]` (I think)\n",
    "- `\\s` - Space characters: space, tab, newline\n",
    "- `[a-zA-Z]` - all letters\n",
    "\n",
    "Remeber the capitalised version matches the opposite.\n",
    "\n",
    "### Custom Character Classes\n",
    "\n",
    "Wrap characters around curly braces. e.g. `[aeiou]`\n",
    "- Note that you do _not_ need to escape special characters within square braces\n",
    "- Use caret symbol `^` to invert the class: `[^aeiou]`\n"
   ]
  },
  {
   "cell_type": "code",
   "execution_count": 13,
   "metadata": {},
   "outputs": [
    {
     "data": {
      "text/plain": [
       "['o', 'o', 'o', 'e', 'a', 'a', 'o', 'o', 'A', 'O', 'O']"
      ]
     },
     "execution_count": 13,
     "metadata": {},
     "output_type": "execute_result"
    }
   ],
   "source": [
    "vowelRegex = re.compile(r'[aeiouAEIOU]')\n",
    "vowelRegex.findall('RoboCop eats baby food. BABY FOOD.')"
   ]
  },
  {
   "cell_type": "markdown",
   "metadata": {},
   "source": [
    "### Match Everything\n",
    "\n",
    "`(.*)` Matches everything (except newline). Use `re.DOTALL` to match newline"
   ]
  },
  {
   "cell_type": "code",
   "execution_count": 14,
   "metadata": {},
   "outputs": [
    {
     "name": "stdout",
     "output_type": "stream",
     "text": [
      "<To serve man>\n",
      "<To serve man> for dinner.>\n"
     ]
    }
   ],
   "source": [
    "lazyRegex = re.compile(r'<.*?>') # NOTE: The question mark is inside the angle brackets!\n",
    "print(lazyRegex.search('<To serve man> for dinner.>').group())\n",
    "\n",
    "greedyRegex = re.compile(r'<.*>')\n",
    "print(greedyRegex.search('<To serve man> for dinner.>').group())"
   ]
  },
  {
   "cell_type": "markdown",
   "metadata": {},
   "source": [
    "### Ignoring Case\n",
    "\n",
    "Pass in `re.IGNORECASE` or `re.I` to `re.compile()` to ignore the case"
   ]
  },
  {
   "cell_type": "code",
   "execution_count": 15,
   "metadata": {},
   "outputs": [
    {
     "name": "stdout",
     "output_type": "stream",
     "text": [
      "RoboCop\n",
      "ROBOCOP\n"
     ]
    }
   ],
   "source": [
    "robocup = re.compile(r'robocop', re.I)\n",
    "print(robocup.search('RoboCop is part man, part machine, all cop.').group())\n",
    "print(robocup.search('ROBOCOP protects the innocent.').group())"
   ]
  },
  {
   "cell_type": "markdown",
   "metadata": {},
   "source": [
    "## Substituting\n",
    "\n",
    "Use the `sub()` method to replace matches. To use the match in a substituion, use `r'\\1', \\2, \\3,` etc. to mean \"Enter the text of group `1,2,3` etc\"."
   ]
  },
  {
   "cell_type": "code",
   "execution_count": 16,
   "metadata": {},
   "outputs": [
    {
     "name": "stdout",
     "output_type": "stream",
     "text": [
      "CENSORED gave the secret documents to CENSORED.\n",
      "A** gave the secret documents to B**.\n"
     ]
    }
   ],
   "source": [
    "namesRegex = re.compile(r'Agent \\w+')\n",
    "print(namesRegex.sub('CENSORED', 'Agent Alice gave the secret documents to Agent Bob.'))\n",
    "\n",
    "namesRegex = re.compile(r'Agent (\\w)\\w*')\n",
    "print(namesRegex.sub(r'\\1**', 'Agent Alice gave the secret documents to Agent Bob.'))"
   ]
  },
  {
   "cell_type": "markdown",
   "metadata": {},
   "source": [
    "### Managing Complex Regex\n",
    "\n",
    "```Python\n",
    "phoneRegex = re.compile(r'''(\n",
    "    (\\d{3}|\\(\\d{3}\\))?            # area code\n",
    "    (\\s|-|\\.)?                    # separator\n",
    "    \\d{3}                         # first 3 digits\n",
    "    (\\s|-|\\.)                     # separator\n",
    "    \\d{4}                         # last 4 digits\n",
    "    (\\s*(ext|x|ext.)\\s*\\d{2,5})?  # extension\n",
    "    )''', re.VERBOSE | re.IGNORECASE)\n",
    "```"
   ]
  },
  {
   "cell_type": "markdown",
   "metadata": {},
   "source": [
    "# Q&A\n",
    "\n",
    "Answering the `Practice Questions` in this [book](https://automatetheboringstuff.com/2e/chapter7/#calibre_link-746)"
   ]
  },
  {
   "cell_type": "markdown",
   "metadata": {},
   "source": [
    "1. `re.compile` created a `Regex` object\n",
    "2. Raw strings are used to escape madness\n",
    "3. `search()` method returns a match object or None\n",
    "4. `group()` or `groups()`\n",
    "5. area code, main number\n",
    "6. escape\n",
    "7. no groups vs groups (respectively)\n",
    "8. return first instance of a match with either side of the pipe\n",
    "9. `?` represents: lazy search, or 0/1 repetition\n",
    "10. `+` is one or more, `*` is 0 or more\n",
    "11. `{3}` matches exactly 3, `{3,5}` matches between (incl)\n",
    "12. `\\d` digit, `\\w` word, `\\s` whitespace char\n",
    "13. Capitalising gives the 'NOT' version\n",
    "14. `.*` matches everything greedily, `.*?` is lazy match everything\n",
    "15. [0-9a-z]\n",
    "16. `re.IGNORECASE`\n",
    "17. `.` matches all characters except newline\n",
    "18. Replace all numbers (not digits!) with 'X'\n",
    "19. `re.VERBOSE` is useful for commenting the regex\n",
    "20. \n",
    "21. `r'[A-Z][a-zA-Z]+ Watanabe'`\n",
    "22. `re.compile(r'^(Alice|Bob|Carol) (eats|pets|throws) (apples|cats|baseballs).$', re.IGNORECASE)`"
   ]
  },
  {
   "cell_type": "code",
   "execution_count": 17,
   "metadata": {},
   "outputs": [
    {
     "name": "stdout",
     "output_type": "stream",
     "text": [
      "<re.Match object; span=(0, 2), match='42'>\n",
      "<re.Match object; span=(0, 5), match='1,234'>\n",
      "<re.Match object; span=(0, 9), match='6,368,745'>\n",
      "<re.Match object; span=(0, 2), match='12'>\n",
      "<re.Match object; span=(0, 3), match='123'>\n"
     ]
    }
   ],
   "source": [
    "# numRegex = re.compile(r'(\\d{,3},?)+')\n",
    "numRegex = re.compile(r'\\d{,3}(,\\d{3})*')\n",
    "\n",
    "nums = ['42', '1,234', '6,368,745', '12,34,567', '1234']\n",
    "\n",
    "for num in nums:\n",
    "    print(numRegex.search(num))\n"
   ]
  },
  {
   "cell_type": "code",
   "execution_count": 22,
   "metadata": {},
   "outputs": [
    {
     "name": "stdout",
     "output_type": "stream",
     "text": [
      "<re.Match object; span=(0, 15), match='Haruto Watanabe'>\n",
      "<re.Match object; span=(0, 14), match='Alice Watanabe'>\n",
      "<re.Match object; span=(0, 16), match='RoboCop Watanabe'>\n",
      "None\n",
      "None\n",
      "None\n",
      "None\n"
     ]
    }
   ],
   "source": [
    "nameRegex = re.compile(r'[A-Z][a-zA-Z]+ Watanabe')\n",
    "\n",
    "names = (\n",
    "    'Haruto Watanabe',\n",
    "    'Alice Watanabe',\n",
    "    'RoboCop Watanabe',\n",
    "    'haruto Watanabe',\n",
    "    'Mr. Watanabe',\n",
    "    'Watanabe',\n",
    "    'Haruto watanabe'\n",
    ")\n",
    "\n",
    "for name in names:\n",
    "    # print(name)\n",
    "    print(nameRegex.search(name))"
   ]
  },
  {
   "cell_type": "code",
   "execution_count": 26,
   "metadata": {},
   "outputs": [
    {
     "name": "stdout",
     "output_type": "stream",
     "text": [
      "<re.Match object; span=(0, 18), match='Alice eats apples.'>\n",
      "<re.Match object; span=(0, 14), match='Bob pets cats.'>\n",
      "<re.Match object; span=(0, 23), match='Carol throws baseballs.'>\n",
      "<re.Match object; span=(0, 20), match='Alice throws Apples.'>\n",
      "<re.Match object; span=(0, 14), match='BOB EATS CATS.'>\n",
      "None\n",
      "None\n",
      "None\n"
     ]
    }
   ],
   "source": [
    "sentenceRegex = re.compile(r'^(Alice|Bob|Carol) (eats|pets|throws) (apples|cats|baseballs).$', re.IGNORECASE)\n",
    "\n",
    "sentences = (\n",
    "    'Alice eats apples.',\n",
    "    'Bob pets cats.',\n",
    "    'Carol throws baseballs.',\n",
    "    'Alice throws Apples.',\n",
    "    'BOB EATS CATS.',\n",
    "    'RoboCop eats apples.',\n",
    "    'ALICE THROWS FOOTBALLS.',\n",
    "    'Carol eats 7 cats.'\n",
    ")\n",
    "\n",
    "for sentence in sentences:\n",
    "    print(sentenceRegex.search(sentence))"
   ]
  },
  {
   "cell_type": "code",
   "execution_count": 45,
   "metadata": {},
   "outputs": [
    {
     "name": "stdout",
     "output_type": "stream",
     "text": [
      "('01/01/1000', '01', '01', '1000')\n",
      "True\n",
      "('30/02/1001', '30', '02', '1001')\n",
      "False\n",
      "('29/02/2000', '29', '02', '2000')\n",
      "True\n"
     ]
    }
   ],
   "source": [
    "# Date Detection\n",
    "\n",
    "dateRegex = re.compile(r'''(\n",
    "    (0[1-9]|[12]\\d|3[0-1])     # DD\n",
    "    /\n",
    "    (0[1-9]|1[0-2])             # MM\n",
    "    /\n",
    "    ([12]\\d{3})             # YYYY (1000 - 2999)\n",
    "    )''',     re.VERBOSE)\n",
    "\n",
    "def validDate(day, month, year) -> bool:\n",
    "    # Check for 30 days in April, June, Sep, Nov\n",
    "    if month in ('04', '06', '09', '11'):\n",
    "        return int(day) <= 30\n",
    "    # No need to check for 31 days in the rest\n",
    "    # Check for days in Feb\n",
    "    if month == '02':\n",
    "        # Leap year\n",
    "        if not int(year) % 4 and (int(year) % 100 or not int(year) % 400):\n",
    "            # 29 days in Feb\n",
    "            return int(day) <= 29\n",
    "        else:\n",
    "            # 28 days in Feb\n",
    "            return int(day) <= 28\n",
    "    return True\n",
    "\n",
    "dates = ('01/01/1000', '30/02/1001', '29/02/2000')\n",
    "\n",
    "\n",
    "for date in dates:\n",
    "    mo = dateRegex.search(date)\n",
    "    print(mo.groups())\n",
    "    _, day, month, year = mo.groups()\n",
    "    print(validDate(day, month, year))\n"
   ]
  },
  {
   "cell_type": "code",
   "execution_count": 52,
   "metadata": {},
   "outputs": [
    {
     "name": "stdout",
     "output_type": "stream",
     "text": [
      "None\n",
      "None\n"
     ]
    }
   ],
   "source": [
    "# Strong password detection\n",
    "# At least 8 characters\n",
    "# Contains both uppercase and lowercase\n",
    "# at least one digit\n",
    "\n",
    "strongPasswordRegex = re.compile(r'(\\w*[a-z]+\\w*[A-Z]+\\w*\\d+\\w*){8,}')\n",
    "\n",
    "passwords = (\"Qwerty123\", \"qwertyuiop\")\n",
    "\n",
    "for pw in passwords:\n",
    "    print(strongPasswordRegex.match(pw))\n"
   ]
  },
  {
   "cell_type": "code",
   "execution_count": 62,
   "metadata": {},
   "outputs": [
    {
     "data": {
      "text/plain": [
       "' hello orld '"
      ]
     },
     "execution_count": 62,
     "metadata": {},
     "output_type": "execute_result"
    }
   ],
   "source": [
    "def regexStrip(string, chars = None):\n",
    "    if chars is None:\n",
    "        stripRegex = re.compile(r'^\\s*(.*?)\\s*$')\n",
    "        return stripRegex.sub(r'\\1', string)\n",
    "    \n",
    "    stripRegex = re.compile(fr'[{chars}]')\n",
    "    return stripRegex.sub('', string)\n",
    "\n",
    "regexStrip(\" hello world \", 'w')"
   ]
  },
  {
   "cell_type": "code",
   "execution_count": null,
   "metadata": {},
   "outputs": [],
   "source": []
  }
 ],
 "metadata": {
  "kernelspec": {
   "display_name": "Python 3.10.7 64-bit",
   "language": "python",
   "name": "python3"
  },
  "language_info": {
   "codemirror_mode": {
    "name": "ipython",
    "version": 3
   },
   "file_extension": ".py",
   "mimetype": "text/x-python",
   "name": "python",
   "nbconvert_exporter": "python",
   "pygments_lexer": "ipython3",
   "version": "3.10.7"
  },
  "orig_nbformat": 4,
  "vscode": {
   "interpreter": {
    "hash": "26de051ba29f2982a8de78e945f0abaf191376122a1563185a90213a26c5da77"
   }
  }
 },
 "nbformat": 4,
 "nbformat_minor": 2
}
